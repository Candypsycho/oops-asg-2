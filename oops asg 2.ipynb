{
 "cells": [
  {
   "cell_type": "code",
   "execution_count": null,
   "id": "6fdbb351",
   "metadata": {},
   "outputs": [],
   "source": [
    "#1\n",
    "A constructor in Python is a special method within a class that is automatically called when an object of the class is created. It is used for initializing the attributes of the object, setting up default values, or performing any necessary setup operations."
   ]
  },
  {
   "cell_type": "code",
   "execution_count": null,
   "id": "c76d52a2",
   "metadata": {},
   "outputs": [],
   "source": [
    "#2\n",
    "A parameterless constructor is a constructor that takes no parameters and is defined with the def __init__(self): syntax. It initializes the object with default values. On the other hand, a parameterized constructor takes one or more parameters, allowing you to pass values when creating an object."
   ]
  },
  {
   "cell_type": "code",
   "execution_count": null,
   "id": "2825b79c",
   "metadata": {},
   "outputs": [],
   "source": [
    "#3\n",
    "'''To define a constructor in a Python class, use the __init__ method'''. Here's an example:\n",
    "class MyClass:cto\n",
    "    def __init__(self, parameter1, parameter2):\n",
    "        self.parameter1 = parameter1\n",
    "        self.parameter2 = parameter2"
   ]
  },
  {
   "cell_type": "code",
   "execution_count": null,
   "id": "22b52527",
   "metadata": {},
   "outputs": [],
   "source": [
    "#4\n",
    "'''The __init__ method is a special method in Python classes that is automatically called when an object is created. It initializes the object's attributes with the values provided as parameters. It plays a crucial role in constructors by allowing you to perform setup operations when an object is instantiated.'''"
   ]
  },
  {
   "cell_type": "code",
   "execution_count": 6,
   "id": "23aab0fb",
   "metadata": {},
   "outputs": [
    {
     "data": {
      "text/plain": [
       "'Aakash'"
      ]
     },
     "execution_count": 6,
     "metadata": {},
     "output_type": "execute_result"
    }
   ],
   "source": [
    "#5\n",
    "class Person:\n",
    "    def __init__(self, name, age):\n",
    "        self.name = name\n",
    "        self.age = age\n",
    "person1 = Person(\"Aakash\", 22)\n",
    "person1.age\n",
    "person1.name"
   ]
  },
  {
   "cell_type": "code",
   "execution_count": 11,
   "id": "c9cd923e",
   "metadata": {},
   "outputs": [
    {
     "name": "stdout",
     "output_type": "stream",
     "text": [
      "Constructor called\n"
     ]
    }
   ],
   "source": [
    "#6\n",
    "\"In Python, constructors are automatically called when an object is created. However, you can call a constructor explicitly using the class name.\"\n",
    "class Example:\n",
    "    def __init__(self):\n",
    "        print(\"Constructor called\")\n",
    "obj = Example()\n"
   ]
  },
  {
   "cell_type": "code",
   "execution_count": 12,
   "id": "1cfca46d",
   "metadata": {},
   "outputs": [
    {
     "name": "stdout",
     "output_type": "stream",
     "text": [
      "Aakash\n"
     ]
    }
   ],
   "source": [
    "#7\n",
    "\"In Python, self represents the instance of the class. It is a convention to name the first parameter of the constructor as self, and it refers to the instance on which the method is called.\"\n",
    "class Person:\n",
    "    def __init__(self, name, age):\n",
    "        self.name = name\n",
    "        self.age = age\n",
    "\n",
    "person1 = Person(\"Aakash\", 22)\n",
    "print(person1.name) \n"
   ]
  },
  {
   "cell_type": "code",
   "execution_count": 13,
   "id": "27f1be47",
   "metadata": {},
   "outputs": [
    {
     "data": {
      "text/plain": [
       "\"In Python, a default constructor is automatically provided if you don't define any constructor in your class. It initializes the object with default values.\""
      ]
     },
     "execution_count": 13,
     "metadata": {},
     "output_type": "execute_result"
    }
   ],
   "source": [
    "#8\n",
    "\"In Python, a default constructor is automatically provided if you don't define any constructor in your class. It initializes the object with default values.\""
   ]
  },
  {
   "cell_type": "code",
   "execution_count": 14,
   "id": "79ee9d15",
   "metadata": {},
   "outputs": [
    {
     "name": "stdout",
     "output_type": "stream",
     "text": [
      "Area: 40\n"
     ]
    }
   ],
   "source": [
    "#9\n",
    "class Rectangle:\n",
    "    def __init__(self, width, height):\n",
    "        self.width = width\n",
    "        self.height = height\n",
    "\n",
    "    def calculate_area(self):\n",
    "        return self.width * self.height\n",
    "rectangle1 = Rectangle(5, 8)\n",
    "area = rectangle1.calculate_area()\n",
    "print(\"Area:\", area)\n"
   ]
  },
  {
   "cell_type": "code",
   "execution_count": 15,
   "id": "52c5bb74",
   "metadata": {},
   "outputs": [
    {
     "data": {
      "text/plain": [
       "\"Python doesn't support multiple constructors directly, but you can achieve similar behavior using default parameter values.\""
      ]
     },
     "execution_count": 15,
     "metadata": {},
     "output_type": "execute_result"
    }
   ],
   "source": [
    "#10\n",
    "\"Python doesn't support multiple constructors directly, but you can achieve similar behavior using default parameter values.\"\n"
   ]
  },
  {
   "cell_type": "code",
   "execution_count": 16,
   "id": "aa7ed1a7",
   "metadata": {},
   "outputs": [
    {
     "data": {
      "text/plain": [
       "'Python does not support method overloading in the traditional sense. However, you can achieve similar functionality by using default values or variable-length argument lists.'"
      ]
     },
     "execution_count": 16,
     "metadata": {},
     "output_type": "execute_result"
    }
   ],
   "source": [
    "#11\n",
    "\"Python does not support method overloading in the traditional sense. However, you can achieve similar functionality by using default values or variable-length argument lists.\""
   ]
  },
  {
   "cell_type": "code",
   "execution_count": 17,
   "id": "ec8f9e3e",
   "metadata": {},
   "outputs": [
    {
     "name": "stdout",
     "output_type": "stream",
     "text": [
      "ali 10\n"
     ]
    }
   ],
   "source": [
    "#12\n",
    "\"The super() function is used to call a method from the parent class. In constructors, it is often used to call the constructor of the parent class.\"\n",
    "class Parent:\n",
    "    def __init__(self, name):\n",
    "        self.name = name\n",
    "\n",
    "class Child(Parent):\n",
    "    def __init__(self, name, age):\n",
    "        super().__init__(name)\n",
    "        self.age = age\n",
    "child = Child(\"ali\", 10)\n",
    "print(child.name, child.age)\n"
   ]
  },
  {
   "cell_type": "code",
   "execution_count": 18,
   "id": "523ffcb0",
   "metadata": {},
   "outputs": [
    {
     "name": "stdout",
     "output_type": "stream",
     "text": [
      "curfewed night basharat peer 2011\n"
     ]
    }
   ],
   "source": [
    "#13\n",
    "class Book:\n",
    "    def __init__(self, title, author, published_year):\n",
    "        self.title = title\n",
    "        self.author = author\n",
    "        self.published_year = published_year\n",
    "\n",
    "    def display_details(self):\n",
    "        print(self.author,self.title,self.published_year)\n",
    "book1 = Book(\"basharat peer\", \"curfewed night\", 2011)\n",
    "book1.display_details()\n"
   ]
  },
  {
   "cell_type": "code",
   "execution_count": 20,
   "id": "2011d38e",
   "metadata": {},
   "outputs": [
    {
     "data": {
      "text/plain": [
       "\"Constructors are called automatically when an object is created, while regular methods need to be called explicitly.Constructors initialize the object's attributes, while regular methods perform specific actions on the object's attribute\""
      ]
     },
     "execution_count": 20,
     "metadata": {},
     "output_type": "execute_result"
    }
   ],
   "source": [
    "#14\n",
    "\"\"\"Constructors are called automatically when an object is created, while regular methods need to be called explicitly.Constructors initialize the object's attributes, while regular methods perform specific actions on the object's attribute\"\"\""
   ]
  },
  {
   "cell_type": "code",
   "execution_count": 23,
   "id": "cd59ac35",
   "metadata": {},
   "outputs": [
    {
     "data": {
      "text/plain": [
       "'self refers to the instance of the class, allowing you to access and modify instance variables within the class.It is used to differentiate between instance variables and local variables in methods.'"
      ]
     },
     "execution_count": 23,
     "metadata": {},
     "output_type": "execute_result"
    }
   ],
   "source": [
    "#15\n",
    "\"\"\"self refers to the instance of the class, allowing you to access and modify instance variables within the class.It is used to differentiate between instance variables and local variables in methods.\"\"\""
   ]
  },
  {
   "cell_type": "code",
   "execution_count": 25,
   "id": "cb9309aa",
   "metadata": {},
   "outputs": [],
   "source": [
    "#16\n",
    "\"You can use a class variable to keep track of whether an instance has been created and prevent multiple instances.\"\n",
    "class pwskills:\n",
    "    _instance = None\n",
    "\n",
    "    def __init__(syed):\n",
    "        if not syed._instance:\n",
    "            syed._instance = super(pwskills).__init__(syed)\n",
    "        return syed._instance\n"
   ]
  },
  {
   "cell_type": "code",
   "execution_count": 26,
   "id": "3040bb44",
   "metadata": {},
   "outputs": [],
   "source": [
    "#17\n",
    "class Student:\n",
    "    def __init__(self, subjects):\n",
    "        self.subjects = subjects\n",
    "student1 = Student([\"biology\", \"Physics\", \"Chemistry\"])\n"
   ]
  },
  {
   "cell_type": "code",
   "execution_count": 28,
   "id": "fdfa713e",
   "metadata": {},
   "outputs": [
    {
     "data": {
      "text/plain": [
       "\"The __del__ method is called when an object is about to be destroyed.It's not recommended to rely on __del__ for cleanup; it's better to use context managers (with statement) or the __exit__ method.\""
      ]
     },
     "execution_count": 28,
     "metadata": {},
     "output_type": "execute_result"
    }
   ],
   "source": [
    "#18\n",
    "\"\"\"The __del__ method is called when an object is about to be destroyed.It's not recommended to rely on __del__ for cleanup; it's better to use context managers (with statement) or the __exit__ method.\"\"\""
   ]
  },
  {
   "cell_type": "code",
   "execution_count": 29,
   "id": "6e375bf3",
   "metadata": {},
   "outputs": [
    {
     "name": "stdout",
     "output_type": "stream",
     "text": [
      "A's constructor\n",
      "B's constructor\n"
     ]
    }
   ],
   "source": [
    "#19\n",
    "\"Constructor chaining is achieved using super().__init__() to call the constructor of the parent class in a derived class.\"\n",
    "class A:\n",
    "    def __init__(self):\n",
    "        print(\"A's constructor\")\n",
    "\n",
    "class B(A):\n",
    "    def __init__(self):\n",
    "        super().__init__()\n",
    "        print(\"B's constructor\")\n",
    "obj = B()\n"
   ]
  },
  {
   "cell_type": "code",
   "execution_count": 30,
   "id": "675c90e5",
   "metadata": {},
   "outputs": [
    {
     "name": "stdout",
     "output_type": "stream",
     "text": [
      "alto 2023\n"
     ]
    }
   ],
   "source": [
    "#20\n",
    "class Car:\n",
    "    def __init__(self, make, model):\n",
    "        self.make = make\n",
    "        self.model = model\n",
    "\n",
    "    def display_info(self):\n",
    "        print(self.make,self.model)\n",
    "car1 = Car(\"alto\",2023)\n",
    "car1.display_info()\n"
   ]
  },
  {
   "cell_type": "markdown",
   "id": "14663147",
   "metadata": {},
   "source": [
    "## inheritance"
   ]
  },
  {
   "cell_type": "code",
   "execution_count": 31,
   "id": "39aff201",
   "metadata": {},
   "outputs": [
    {
     "data": {
      "text/plain": [
       "'Inheritance is a fundamental concept in object-oriented programming (OOP) that allows a class (subclass or derived class) to inherit the properties and methods of another class (superclass or base class). It promotes code reuse, extensibility, and the creation of a hierarchical structure among classes.'"
      ]
     },
     "execution_count": 31,
     "metadata": {},
     "output_type": "execute_result"
    }
   ],
   "source": [
    "#1\n",
    "\"Inheritance is a fundamental concept in object-oriented programming (OOP) that allows a class (subclass or derived class) to inherit the properties and methods of another class (superclass or base class). It promotes code reuse, extensibility, and the creation of a hierarchical structure among classes.\""
   ]
  },
  {
   "cell_type": "code",
   "execution_count": 32,
   "id": "799065ea",
   "metadata": {},
   "outputs": [],
   "source": [
    "#2\n",
    "\"\"\"\"Single Inheritance:\n",
    "In single inheritance, a class can inherit from only one base class.\"\"\"\n",
    "class A:\n",
    "    pass\n",
    "\n",
    "class B(A):\n",
    "    pass\n",
    "\"\"\"Multiple Inheritance:\n",
    "In multiple inheritance, a class can inherit from multiple base classes.\"\"\"\n",
    "class A:\n",
    "    pass\n",
    "\n",
    "class B:\n",
    "    pass\n",
    "\n",
    "class C(A, B):\n",
    "    pass\n"
   ]
  },
  {
   "cell_type": "code",
   "execution_count": 33,
   "id": "bf4a6535",
   "metadata": {},
   "outputs": [],
   "source": [
    "#3\n",
    "class Vehicle:\n",
    "    def __init__(self, color, speed):\n",
    "        self.color = color\n",
    "        self.speed = speed\n",
    "\n",
    "class Car(Vehicle):\n",
    "    def __init__(self, color, speed, brand):\n",
    "        super().__init__(color, speed)\n",
    "        self.brand = brand\n",
    "car1 = Car(\"black\", 80, \"alto\")\n"
   ]
  },
  {
   "cell_type": "code",
   "execution_count": 34,
   "id": "9879fba1",
   "metadata": {},
   "outputs": [
    {
     "name": "stdout",
     "output_type": "stream",
     "text": [
      "meow\n"
     ]
    }
   ],
   "source": [
    "#4\n",
    "\"Method overriding occurs when a subclass provides a specific implementation for a method that is already defined in its superclass.\"\n",
    "class Animal:\n",
    "    def speak(self):\n",
    "        print(\"Generic animal sound\")\n",
    "\n",
    "class cat(Animal):\n",
    "    def speak(self):\n",
    "        print(\"meow\")\n",
    "cat = cat()\n",
    "cat.speak()\n"
   ]
  },
  {
   "cell_type": "code",
   "execution_count": 35,
   "id": "55523d4b",
   "metadata": {},
   "outputs": [
    {
     "name": "stdout",
     "output_type": "stream",
     "text": [
      "Parent method\n"
     ]
    }
   ],
   "source": [
    "#5\n",
    "\"You can access the methods and attributes of a parent class using the super() function.\"\n",
    "class Parent:\n",
    "    def show(self):\n",
    "        print(\"Parent method\")\n",
    "\n",
    "class Child(Parent):\n",
    "    def display(self):\n",
    "        super().show()\n",
    "child = Child()\n",
    "child.display() \n"
   ]
  },
  {
   "cell_type": "code",
   "execution_count": 36,
   "id": "cc53bf21",
   "metadata": {},
   "outputs": [
    {
     "name": "stdout",
     "output_type": "stream",
     "text": [
      "A's constructor\n",
      "B's constructor\n"
     ]
    }
   ],
   "source": [
    "#6\n",
    "\"The super() function is used to call methods from the parent class in a child class. It is commonly used in the constructor to invoke the constructor of the parent class.\"\n",
    "class A:\n",
    "    def __init__(self):\n",
    "        print(\"A's constructor\")\n",
    "\n",
    "class B(A):\n",
    "    def __init__(self):\n",
    "        super().__init__()\n",
    "        print(\"B's constructor\")\n",
    "obj = B()\n"
   ]
  },
  {
   "cell_type": "code",
   "execution_count": 37,
   "id": "b0b037ee",
   "metadata": {},
   "outputs": [
    {
     "name": "stdout",
     "output_type": "stream",
     "text": [
      "Woof\n",
      "Meow\n"
     ]
    }
   ],
   "source": [
    "#7\n",
    "class Animal:\n",
    "    def speak(self):\n",
    "        print(\"Generic animal sound\")\n",
    "\n",
    "class Dog(Animal):\n",
    "    def speak(self):\n",
    "        print(\"Woof\")\n",
    "\n",
    "class Cat(Animal):\n",
    "    def speak(self):\n",
    "        print(\"Meow\")\n",
    "\n",
    "dog = Dog()\n",
    "cat = Cat()\n",
    "dog.speak()\n",
    "cat.speak()\n"
   ]
  },
  {
   "cell_type": "code",
   "execution_count": 38,
   "id": "bd918cff",
   "metadata": {},
   "outputs": [
    {
     "data": {
      "text/plain": [
       "'The isinstance() function is used to check if an object is an instance of a specified class or a tuple of classes.'"
      ]
     },
     "execution_count": 38,
     "metadata": {},
     "output_type": "execute_result"
    }
   ],
   "source": [
    "#8\n",
    "\"The isinstance() function is used to check if an object is an instance of a specified class or a tuple of classes.\""
   ]
  },
  {
   "cell_type": "code",
   "execution_count": 39,
   "id": "35e06849",
   "metadata": {},
   "outputs": [
    {
     "name": "stdout",
     "output_type": "stream",
     "text": [
      "True\n"
     ]
    }
   ],
   "source": [
    "#9\n",
    "\"The issubclass() function is used to check if a class is a subclass of a specified class or a tuple of classes.\"\n",
    "print(issubclass(Dog, Animal))"
   ]
  },
  {
   "cell_type": "code",
   "execution_count": 40,
   "id": "34eaca26",
   "metadata": {},
   "outputs": [
    {
     "data": {
      "text/plain": [
       "'Constructors are inherited in child classes, and the super().__init__() can be used to call the constructor of the parent class.'"
      ]
     },
     "execution_count": 40,
     "metadata": {},
     "output_type": "execute_result"
    }
   ],
   "source": [
    "#10\n",
    "\"Constructors are inherited in child classes, and the super().__init__() can be used to call the constructor of the parent class.\""
   ]
  },
  {
   "cell_type": "code",
   "execution_count": 41,
   "id": "d4f807cc",
   "metadata": {},
   "outputs": [],
   "source": [
    "#11\n",
    "from abc import ABC, abstractmethod\n",
    "import math\n",
    "\n",
    "class Shape(ABC):\n",
    "    @abstractmethod\n",
    "    def area(self):\n",
    "        pass\n",
    "\n",
    "class Circle(Shape):\n",
    "    def __init__(self, radius):\n",
    "        self.radius = radius\n",
    "\n",
    "    def area(self):\n",
    "        return math.pi * self.radius**2\n",
    "\n",
    "class Rectangle(Shape):\n",
    "    def __init__(self, width, height):\n",
    "        self.width = width\n",
    "        self.height = height\n",
    "\n",
    "    def area(self):\n",
    "        return self.width * self.height\n",
    "circle = Circle(5)\n",
    "rectangle = Rectangle(4, 6)\n"
   ]
  },
  {
   "cell_type": "code",
   "execution_count": 42,
   "id": "eb133105",
   "metadata": {},
   "outputs": [
    {
     "name": "stdout",
     "output_type": "stream",
     "text": [
      "Implemented my_method\n"
     ]
    }
   ],
   "source": [
    "#12\n",
    "\"ABCs in Python define abstract methods that must be implemented by concrete (non-abstract) subclasses. The abc module is used for this purpose.\"\n",
    "from abc import ABC, abstractmethod\n",
    "\n",
    "class MyABC(ABC):\n",
    "    @abstractmethod\n",
    "    def my_method(self):\n",
    "        pass\n",
    "\n",
    "class ConcreteClass(MyABC):\n",
    "    def my_method(self):\n",
    "        print(\"Implemented my_method\")\n",
    "obj = ConcreteClass()\n",
    "obj.my_method()\n"
   ]
  },
  {
   "cell_type": "code",
   "execution_count": 43,
   "id": "37caac36",
   "metadata": {},
   "outputs": [
    {
     "data": {
      "text/plain": [
       "'You can make attributes or methods in the parent class private (by prefixing with a double underscore) to prevent direct modification in the child class.'"
      ]
     },
     "execution_count": 43,
     "metadata": {},
     "output_type": "execute_result"
    }
   ],
   "source": [
    "#13\n",
    "\"You can make attributes or methods in the parent class private (by prefixing with a double underscore) to prevent direct modification in the child class.\""
   ]
  },
  {
   "cell_type": "code",
   "execution_count": 44,
   "id": "177f5aef",
   "metadata": {},
   "outputs": [],
   "source": [
    "#14\n",
    "class Employee:\n",
    "    def __init__(self, name, salary):\n",
    "        self.name = name\n",
    "        self.salary = salary\n",
    "\n",
    "class Manager(Employee):\n",
    "    def __init__(self, name, salary, department):\n",
    "        super().__init__(name, salary)\n",
    "        self.department = department\n",
    "manager = Manager(\"junaid\", 60000, \"md\")\n"
   ]
  },
  {
   "cell_type": "code",
   "execution_count": 45,
   "id": "37b02e69",
   "metadata": {},
   "outputs": [
    {
     "data": {
      "text/plain": [
       "\"Python doesn't support method overloading in the traditional sense. However, you can achieve similar functionality using default values or variable-length argument lists.\""
      ]
     },
     "execution_count": 45,
     "metadata": {},
     "output_type": "execute_result"
    }
   ],
   "source": [
    "#15\n",
    "\"Python doesn't support method overloading in the traditional sense. However, you can achieve similar functionality using default values or variable-length argument lists.\""
   ]
  },
  {
   "cell_type": "code",
   "execution_count": 46,
   "id": "e8db808c",
   "metadata": {},
   "outputs": [
    {
     "data": {
      "text/plain": [
       "\"The __init__() method in Python is used as a constructor. In inheritance, it's utilized to initialize attributes of both the parent and child classes.\""
      ]
     },
     "execution_count": 46,
     "metadata": {},
     "output_type": "execute_result"
    }
   ],
   "source": [
    "#16\n",
    "\"The __init__() method in Python is used as a constructor. In inheritance, it's utilized to initialize attributes of both the parent and child classes.\""
   ]
  },
  {
   "cell_type": "code",
   "execution_count": 47,
   "id": "d84a0dfb",
   "metadata": {},
   "outputs": [],
   "source": [
    "#17\n",
    "class Bird:\n",
    "    def fly(self):\n",
    "        print(\"Generic bird flying\")\n",
    "\n",
    "class Eagle(Bird):\n",
    "    def fly(self):\n",
    "        print(\"Eagle soaring high\")\n",
    "\n",
    "class Sparrow(Bird):\n",
    "    def fly(self):\n",
    "        print(\"Sparrow flapping wings\")\n",
    "eagle = Eagle\n"
   ]
  },
  {
   "cell_type": "code",
   "execution_count": 49,
   "id": "1aecafa6",
   "metadata": {},
   "outputs": [
    {
     "data": {
      "text/plain": [
       "'The \"diamond problem\" is a complication that can occur in languages that support multiple inheritance. It arises when a class inherits from two classes that have a common ancestor. If both parent classes implement a method with the same name, and the child class does not override that method, there can be ambiguity in determining which method to call.'"
      ]
     },
     "execution_count": 49,
     "metadata": {},
     "output_type": "execute_result"
    }
   ],
   "source": [
    "#18\n",
    "'The \"diamond problem\" is a complication that can occur in languages that support multiple inheritance. It arises when a class inherits from two classes that have a common ancestor. If both parent classes implement a method with the same name, and the child class does not override that method, there can be ambiguity in determining which method to call.'"
   ]
  },
  {
   "cell_type": "code",
   "execution_count": 51,
   "id": "300ac327",
   "metadata": {},
   "outputs": [],
   "source": [
    "#19\n",
    "\"\"\"\"is-a\" Relationship:\n",
    "An \"is-a\" relationship represents inheritance, where a subclass is a specialized version of its superclass.\"\"\"\n",
    "class Animal:\n",
    "    pass\n",
    "\n",
    "class Dog(Animal):\n",
    "    pass\n",
    "'Here, Dog \"is-a\" type of Animal'\n",
    "\n",
    "\"\"\"has-a\" Relationship:\n",
    "A \"has-a\" relationship represents composition, where a class has another class as a component.\"\"\"\n",
    "class Engine:\n",
    "    pass\n",
    "\n",
    "class Car:\n",
    "    def __init__(self):\n",
    "        self.engine = Engine()\n"
   ]
  },
  {
   "cell_type": "code",
   "execution_count": 52,
   "id": "a0c8a9c8",
   "metadata": {},
   "outputs": [
    {
     "name": "stdout",
     "output_type": "stream",
     "text": [
      "Aakash enrolled in fsdsp\n",
      "junaid is teaching dsa\n"
     ]
    }
   ],
   "source": [
    "#20\n",
    "class Person:\n",
    "    def __init__(self, name, age):\n",
    "        self.name = name\n",
    "        self.age = age\n",
    "\n",
    "class Student(Person):\n",
    "    def __init__(self, name, age, student_id):\n",
    "        super().__init__(name, age)\n",
    "        self.student_id = student_id\n",
    "\n",
    "    def enroll_course(self, course):\n",
    "        print(f\"{self.name} enrolled in {course}\")\n",
    "\n",
    "class Professor(Person):\n",
    "    def __init__(self, name, age, employee_id):\n",
    "        super().__init__(name, age)\n",
    "        self.employee_id = employee_id\n",
    "\n",
    "    def teach_course(self, course):\n",
    "        print(f\"{self.name} is teaching {course}\")\n",
    "student = Student(\"Aakash\", 22, \"aa002\")\n",
    "professor = Professor(\"junaid\", 27, \"P456\")\n",
    "\n",
    "student.enroll_course(\"fsdsp\")\n",
    "professor.teach_course(\"dsa\")\n"
   ]
  },
  {
   "cell_type": "markdown",
   "id": "53f3bdbc",
   "metadata": {},
   "source": [
    "## encapsulation"
   ]
  },
  {
   "cell_type": "code",
   "execution_count": 53,
   "id": "de58f201",
   "metadata": {},
   "outputs": [
    {
     "data": {
      "text/plain": [
       "'Encapsulation is one of the four fundamental OOP concepts. It involves bundling the data (attributes) and the methods that operate on the data into a single unit known as a class. The internal workings of a class are hidden from the outside world, and access to the class is controlled by an interface. Encapsulation helps in organizing code, improving security, and promoting code maintenance.'"
      ]
     },
     "execution_count": 53,
     "metadata": {},
     "output_type": "execute_result"
    }
   ],
   "source": [
    "#1\n",
    "\"Encapsulation is one of the four fundamental OOP concepts. It involves bundling the data (attributes) and the methods that operate on the data into a single unit known as a class. The internal workings of a class are hidden from the outside world, and access to the class is controlled by an interface. Encapsulation helps in organizing code, improving security, and promoting code maintenance.\""
   ]
  },
  {
   "cell_type": "code",
   "execution_count": 54,
   "id": "1876a9d3",
   "metadata": {},
   "outputs": [
    {
     "data": {
      "text/plain": [
       "'Access Control:\\nAccess control mechanisms, such as public, private, and protected access modifiers, determine the visibility and accessibility of class members (attributes and methods).\\nData Hiding:\\nData hiding ensures that the internal representation of an object is hidden from the outside. Only the necessary information is exposed, and the implementation details are kept private.'"
      ]
     },
     "execution_count": 54,
     "metadata": {},
     "output_type": "execute_result"
    }
   ],
   "source": [
    "#2\n",
    "\"\"\"Access Control:\n",
    "Access control mechanisms, such as public, private, and protected access modifiers, determine the visibility and accessibility of class members (attributes and methods).\n",
    "Data Hiding:\n",
    "Data hiding ensures that the internal representation of an object is hidden from the outside. Only the necessary information is exposed, and the implementation details are kept private.\"\"\""
   ]
  },
  {
   "cell_type": "code",
   "execution_count": 55,
   "id": "0f9e41d8",
   "metadata": {},
   "outputs": [],
   "source": [
    "#3\n",
    "\"In Python, encapsulation is achieved by using access modifiers and methods for interacting with the attributes.\"\n",
    "class Example:\n",
    "    def __init__(self):\n",
    "        self.__private_attribute = 42\n",
    "\n",
    "    def get_private_attribute(self):\n",
    "        return self.__private_attribute\n",
    "\n",
    "    def set_private_attribute(self, value):\n",
    "        self.__private_attribute = value\n"
   ]
  },
  {
   "cell_type": "code",
   "execution_count": 56,
   "id": "0d227196",
   "metadata": {},
   "outputs": [
    {
     "data": {
      "text/plain": [
       "'Public (+):\\nPublic members are accessible from outside the class.\\nPrivate (-):\\nPrivate members are only accessible within the class. They are denoted by a double underscore __.\\nProtected (#):\\nProtected members are accessible within the class and its subclasses. They are denoted by a single underscore _.'"
      ]
     },
     "execution_count": 56,
     "metadata": {},
     "output_type": "execute_result"
    }
   ],
   "source": [
    "#4\n",
    "\"\"\"Public (+):\n",
    "Public members are accessible from outside the class.\n",
    "Private (-):\n",
    "Private members are only accessible within the class. They are denoted by a double underscore __.\n",
    "Protected (#):\n",
    "Protected members are accessible within the class and its subclasses. They are denoted by a single underscore _.\"\"\""
   ]
  },
  {
   "cell_type": "code",
   "execution_count": 57,
   "id": "b9a27431",
   "metadata": {},
   "outputs": [],
   "source": [
    "#5\n",
    "class Person:\n",
    "    def __init__(self):\n",
    "        self.__name = \"\"\n",
    "\n",
    "    def get_name(self):\n",
    "        return self.__name\n",
    "\n",
    "    def set_name(self, name):\n",
    "        self.__name = name\n"
   ]
  },
  {
   "cell_type": "code",
   "execution_count": 58,
   "id": "e3ed579e",
   "metadata": {},
   "outputs": [],
   "source": [
    "#6\n",
    "\"Getter methods retrieve the value of a private attribute, and setter methods modify the value. They provide controlled access to the private attributes.\"\n",
    "class Example:\n",
    "    def __init__(self):\n",
    "        self.__attribute = 42\n",
    "\n",
    "    def get_attribute(self):\n",
    "        return self.__attribute\n",
    "\n",
    "    def set_attribute(self, value):\n",
    "        self.__attribute = value\n"
   ]
  },
  {
   "cell_type": "code",
   "execution_count": 59,
   "id": "ba916a52",
   "metadata": {},
   "outputs": [
    {
     "data": {
      "text/plain": [
       "'Name mangling is a technique used to make the names of attributes more unique by adding a prefix with the class name. This makes it harder to accidentally override attributes in subclasses.'"
      ]
     },
     "execution_count": 59,
     "metadata": {},
     "output_type": "execute_result"
    }
   ],
   "source": [
    "#7\n",
    "\"Name mangling is a technique used to make the names of attributes more unique by adding a prefix with the class name. This makes it harder to accidentally override attributes in subclasses.\""
   ]
  },
  {
   "cell_type": "code",
   "execution_count": 60,
   "id": "c3ed0511",
   "metadata": {},
   "outputs": [],
   "source": [
    "#8\n",
    "class BankAccount:\n",
    "    def __init__(self):\n",
    "        self.__balance = 0\n",
    "        self.__account_number = \"\"\n",
    "\n",
    "    def deposit(self, amount):\n",
    "        self.__balance += amount\n",
    "\n",
    "    def withdraw(self, amount):\n",
    "        if amount <= self.__balance:\n",
    "            self.__balance -= amount\n",
    "        else:\n",
    "            print(\"Insufficient funds.\")\n"
   ]
  },
  {
   "cell_type": "code",
   "execution_count": 61,
   "id": "958cabfc",
   "metadata": {},
   "outputs": [
    {
     "data": {
      "text/plain": [
       "'Code Maintainability:\\nEncapsulation helps in organizing code, making it easier to maintain and understand.\\nSecurity:\\nPrivate attributes and methods are hidden, enhancing security by preventing direct access from outside the class.'"
      ]
     },
     "execution_count": 61,
     "metadata": {},
     "output_type": "execute_result"
    }
   ],
   "source": [
    "#9\n",
    "\"\"\"Code Maintainability:\n",
    "Encapsulation helps in organizing code, making it easier to maintain and understand.\n",
    "Security:\n",
    "Private attributes and methods are hidden, enhancing security by preventing direct access from outside the class.\"\"\""
   ]
  },
  {
   "cell_type": "code",
   "execution_count": 62,
   "id": "e3e6a835",
   "metadata": {},
   "outputs": [
    {
     "name": "stdout",
     "output_type": "stream",
     "text": [
      "42\n"
     ]
    }
   ],
   "source": [
    "#10\n",
    "class Example:\n",
    "    def __init__(self):\n",
    "        self.__attribute = 42\n",
    "\n",
    "obj = Example()\n",
    "print(obj._Example__attribute)\n"
   ]
  },
  {
   "cell_type": "code",
   "execution_count": 63,
   "id": "e26aa961",
   "metadata": {},
   "outputs": [],
   "source": [
    "#11\n",
    "class Person:\n",
    "    def __init__(self, name, age):\n",
    "        self.__name = name\n",
    "        self.__age = age\n",
    "\n",
    "class Student(Person):\n",
    "    def __init__(self, name, age, student_id):\n",
    "        super().__init__(name, age)\n",
    "        self.__student_id = student_id\n",
    "\n",
    "class Professor(Person):\n",
    "    def __init__(self, name, age, employee_id):\n",
    "        super().__init__(name, age)\n",
    "        self.__employee_id = employee_id\n"
   ]
  },
  {
   "cell_type": "code",
   "execution_count": 64,
   "id": "00200c80",
   "metadata": {},
   "outputs": [
    {
     "data": {
      "text/plain": [
       "'Property decorators provide a concise way to create getter and setter methods for attributes.'"
      ]
     },
     "execution_count": 64,
     "metadata": {},
     "output_type": "execute_result"
    }
   ],
   "source": [
    "#12\n",
    "\"Property decorators provide a concise way to create getter and setter methods for attributes.\""
   ]
  },
  {
   "cell_type": "code",
   "execution_count": 65,
   "id": "f144fa67",
   "metadata": {},
   "outputs": [],
   "source": [
    "#13\n",
    "\"Data hiding involves keeping the implementation details of an object hidden and exposing only what is necessary.\"\n",
    "class Example:\n",
    "    def __init__(self):\n",
    "        self.__attribute = 42\n"
   ]
  },
  {
   "cell_type": "code",
   "execution_count": 66,
   "id": "1b855d9b",
   "metadata": {},
   "outputs": [],
   "source": [
    "#14\n",
    "class Employee:\n",
    "    def __init__(self, name, salary):\n",
    "        self.__name = name\n",
    "        self.__salary = salary\n",
    "\n",
    "    def calculate_yearly_bonus(self):\n",
    "        return 0.1 * self.__salary\n"
   ]
  },
  {
   "cell_type": "code",
   "execution_count": 67,
   "id": "9174da3e",
   "metadata": {},
   "outputs": [
    {
     "data": {
      "text/plain": [
       "'Accessors (getters) retrieve the value of an attribute, while mutators (setters) modify the value. They provide control over attribute access.'"
      ]
     },
     "execution_count": 67,
     "metadata": {},
     "output_type": "execute_result"
    }
   ],
   "source": [
    "#15\n",
    "\"Accessors (getters) retrieve the value of an attribute, while mutators (setters) modify the value. They provide control over attribute access.\""
   ]
  },
  {
   "cell_type": "code",
   "execution_count": 68,
   "id": "689374b7",
   "metadata": {},
   "outputs": [
    {
     "data": {
      "text/plain": [
       "'Increased Complexity:\\nEncapsulation can make code more complex, especially when dealing with numerous accessors and mutators.\\nPotential Overhead:\\nThe use of getters and setters may introduce some performance overhead.'"
      ]
     },
     "execution_count": 68,
     "metadata": {},
     "output_type": "execute_result"
    }
   ],
   "source": [
    "#16\n",
    "\"\"\"Increased Complexity:\n",
    "Encapsulation can make code more complex, especially when dealing with numerous accessors and mutators.\n",
    "Potential Overhead:\n",
    "The use of getters and setters may introduce some performance overhead.\"\"\""
   ]
  },
  {
   "cell_type": "code",
   "execution_count": 69,
   "id": "c82bb881",
   "metadata": {},
   "outputs": [],
   "source": [
    "#17\n",
    "class Book:\n",
    "    def __init__(self, title, author):\n",
    "        self.__title = title\n",
    "        self.__author = author\n",
    "\n",
    "class Library:\n",
    "    def __init__(self):\n",
    "        self.__books = []\n",
    "\n",
    "    def add_book(self, book):\n",
    "        self.__books.append(book)\n",
    "\n",
    "    def get_books(self):\n",
    "        return self.__books\n"
   ]
  },
  {
   "cell_type": "code",
   "execution_count": 70,
   "id": "c0176525",
   "metadata": {},
   "outputs": [
    {
     "data": {
      "text/plain": [
       "'Encapsulation promotes code reusability by allowing objects to be used as building blocks for larger systems without exposing their internal details.'"
      ]
     },
     "execution_count": 70,
     "metadata": {},
     "output_type": "execute_result"
    }
   ],
   "source": [
    "#18\n",
    "\"Encapsulation promotes code reusability by allowing objects to be used as building blocks for larger systems without exposing their internal details.\""
   ]
  },
  {
   "cell_type": "code",
   "execution_count": 71,
   "id": "44a7de72",
   "metadata": {},
   "outputs": [
    {
     "data": {
      "text/plain": [
       "'Information hiding involves restricting access to certain details of an object, promoting a clean and simple interface.'"
      ]
     },
     "execution_count": 71,
     "metadata": {},
     "output_type": "execute_result"
    }
   ],
   "source": [
    "#19\n",
    "\"Information hiding involves restricting access to certain details of an object, promoting a clean and simple interface.\""
   ]
  },
  {
   "cell_type": "code",
   "execution_count": 73,
   "id": "a30d3777",
   "metadata": {},
   "outputs": [],
   "source": [
    "#20\n",
    "class Customer:\n",
    "    def __init__(self, name, address, contact_info):\n",
    "        self.__name = name\n",
    "        self.__address = address\n",
    "        self.__contact_info = contact_info\n"
   ]
  },
  {
   "cell_type": "markdown",
   "id": "b54828a8",
   "metadata": {},
   "source": [
    "## polymorphism"
   ]
  },
  {
   "cell_type": "code",
   "execution_count": 74,
   "id": "2025df3f",
   "metadata": {},
   "outputs": [
    {
     "data": {
      "text/plain": [
       "'Polymorphism is the ability of a class to take on multiple forms. It allows objects of different classes to be treated as objects of a common base class. Polymorphism is a key concept in OOP that enhances code flexibility and readability.'"
      ]
     },
     "execution_count": 74,
     "metadata": {},
     "output_type": "execute_result"
    }
   ],
   "source": [
    "#1\n",
    "\"Polymorphism is the ability of a class to take on multiple forms. It allows objects of different classes to be treated as objects of a common base class. Polymorphism is a key concept in OOP that enhances code flexibility and readability.\""
   ]
  },
  {
   "cell_type": "code",
   "execution_count": 75,
   "id": "90c901a0",
   "metadata": {},
   "outputs": [
    {
     "data": {
      "text/plain": [
       "'Compile-Time (Static) Polymorphism:\\nOccurs during compilation and is resolved at compile-time. Method overloading is an example.\\nRuntime (Dynamic) Polymorphism:\\nOccurs during runtime and is resolved at runtime. Method overriding is an example.'"
      ]
     },
     "execution_count": 75,
     "metadata": {},
     "output_type": "execute_result"
    }
   ],
   "source": [
    "#2\n",
    "\"\"\"Compile-Time (Static) Polymorphism:\n",
    "Occurs during compilation and is resolved at compile-time. Method overloading is an example.\n",
    "Runtime (Dynamic) Polymorphism:\n",
    "Occurs during runtime and is resolved at runtime. Method overriding is an example.\"\"\""
   ]
  },
  {
   "cell_type": "code",
   "execution_count": 76,
   "id": "31dfcc15",
   "metadata": {},
   "outputs": [],
   "source": [
    "#3\n",
    "class Shape:\n",
    "    def calculate_area(self):\n",
    "        pass\n",
    "\n",
    "class Circle(Shape):\n",
    "    def __init__(self, radius):\n",
    "        self.radius = radius\n",
    "\n",
    "    def calculate_area(self):\n",
    "        return 3.14 * self.radius**2\n",
    "\n",
    "class Rectangle(Shape):\n",
    "    def __init__(self, width, height):\n",
    "        self.width = width\n",
    "        self.height = height\n",
    "\n",
    "    def calculate_area(self):\n",
    "        return self.width * self.height\n"
   ]
  },
  {
   "cell_type": "code",
   "execution_count": 78,
   "id": "8ee1e8cd",
   "metadata": {},
   "outputs": [
    {
     "name": "stdout",
     "output_type": "stream",
     "text": [
      "Woof\n"
     ]
    }
   ],
   "source": [
    "#4\n",
    "\"Method overriding occurs when a subclass provides a specific implementation for a method that is already defined in its superclass.\"\n",
    "class Animal:\n",
    "    def speak(self):\n",
    "        print(\"Generic animal sound\")\n",
    "\n",
    "class Dog(Animal):\n",
    "    def speak(self):\n",
    "        print(\"Woof\")\n",
    "\n",
    "dog = Dog()\n",
    "dog.speak()\n"
   ]
  },
  {
   "cell_type": "code",
   "execution_count": 79,
   "id": "6b465887",
   "metadata": {},
   "outputs": [],
   "source": [
    "#5\n",
    "\"\"\"Polymorphism:\n",
    "Allows objects of different classes to be treated as objects of a common base class.\n",
    "Method Overloading:\n",
    "Involves defining multiple methods with the same name but different parameters within the same class.\"\"\"\n",
    "class Example:\n",
    "    def method(self, x):\n",
    "        print(self.x)\n",
    "\n",
    "    def method(self, x, y):\n",
    "        print(self.x,self.y)\n"
   ]
  },
  {
   "cell_type": "code",
   "execution_count": 80,
   "id": "bf23eae6",
   "metadata": {},
   "outputs": [
    {
     "name": "stdout",
     "output_type": "stream",
     "text": [
      "Woof\n",
      "Meow\n"
     ]
    }
   ],
   "source": [
    "#6\n",
    "class Animal:\n",
    "    def speak(self):\n",
    "        print(\"Generic animal sound\")\n",
    "\n",
    "class Dog(Animal):\n",
    "    def speak(self):\n",
    "        print(\"Woof\")\n",
    "\n",
    "class Cat(Animal):\n",
    "    def speak(self):\n",
    "        print(\"Meow\")\n",
    "\n",
    "dog = Dog()\n",
    "cat = Cat()\n",
    "\n",
    "dog.speak()  \n",
    "cat.speak() \n"
   ]
  },
  {
   "cell_type": "code",
   "execution_count": 81,
   "id": "fe4125b7",
   "metadata": {},
   "outputs": [],
   "source": [
    "#7\n",
    "\"Abstract methods and classes in Python, often implemented using the abc module, are crucial for achieving polymorphism\"\n",
    "from abc import ABC, abstractmethod\n",
    "\n",
    "class Shape(ABC):\n",
    "    @abstractmethod\n",
    "    def calculate_area(self):\n",
    "        pass\n",
    "\n",
    "class Circle(Shape):\n",
    "    def __init__(self, radius):\n",
    "        self.radius = radius\n",
    "\n",
    "    def calculate_area(self):\n",
    "        return 3.14 * self.radius**2\n"
   ]
  },
  {
   "cell_type": "code",
   "execution_count": 82,
   "id": "8109f86c",
   "metadata": {},
   "outputs": [],
   "source": [
    "#8\n",
    "class Vehicle:\n",
    "    def start(self):\n",
    "        pass\n",
    "\n",
    "class Car(Vehicle):\n",
    "    def start(self):\n",
    "        print(\"Car starting\")\n",
    "\n",
    "class Bicycle(Vehicle):\n",
    "    def start(self):\n",
    "        print(\"Bicycle pedaling\")\n",
    "\n",
    "class Boat(Vehicle):\n",
    "    def start(self):\n",
    "        print(\"Boat engine starting\")\n"
   ]
  },
  {
   "cell_type": "code",
   "execution_count": 83,
   "id": "529227fd",
   "metadata": {},
   "outputs": [
    {
     "data": {
      "text/plain": [
       "'isinstance(obj, class) checks if an object is an instance of a specified class.\\nissubclass(subclass, class) checks if a class is a subclass of another class.'"
      ]
     },
     "execution_count": 83,
     "metadata": {},
     "output_type": "execute_result"
    }
   ],
   "source": [
    "#9\n",
    "\"\"\"isinstance(obj, class) checks if an object is an instance of a specified class.\n",
    "issubclass(subclass, class) checks if a class is a subclass of another class.\"\"\""
   ]
  },
  {
   "cell_type": "code",
   "execution_count": 84,
   "id": "73e784f5",
   "metadata": {},
   "outputs": [
    {
     "data": {
      "text/plain": [
       "'The @abstractmethod decorator is used to define abstract methods, which are crucial for achieving polymorphism.'"
      ]
     },
     "execution_count": 84,
     "metadata": {},
     "output_type": "execute_result"
    }
   ],
   "source": [
    "#10\n",
    "\"The @abstractmethod decorator is used to define abstract methods, which are crucial for achieving polymorphism.\"\n"
   ]
  },
  {
   "cell_type": "code",
   "execution_count": 85,
   "id": "7a7fb927",
   "metadata": {},
   "outputs": [],
   "source": [
    "#11\n",
    "class Shape:\n",
    "    def area(self):\n",
    "        pass\n",
    "\n",
    "class Circle(Shape):\n",
    "    def __init__(self, radius):\n",
    "        self.radius = radius\n",
    "\n",
    "    def area(self):\n",
    "        return 3.14 * self.radius**2\n",
    "\n",
    "class Rectangle(Shape):\n",
    "    def __init__(self, width, height):\n",
    "        self.width = width\n",
    "        self.height = height\n",
    "\n",
    "    def area(self):\n",
    "        return self.width * self.height\n"
   ]
  },
  {
   "cell_type": "code",
   "execution_count": 86,
   "id": "63ccd50d",
   "metadata": {},
   "outputs": [
    {
     "data": {
      "text/plain": [
       "'Code Reusability:\\nPolymorphism allows code to be reused with different types of objects.\\nFlexibility:\\nCode becomes more flexible and adaptable to changes.'"
      ]
     },
     "execution_count": 86,
     "metadata": {},
     "output_type": "execute_result"
    }
   ],
   "source": [
    "#12\n",
    "'''Code Reusability:\n",
    "Polymorphism allows code to be reused with different types of objects.\n",
    "Flexibility:\n",
    "Code becomes more flexible and adaptable to changes.'''"
   ]
  },
  {
   "cell_type": "code",
   "execution_count": 87,
   "id": "146f723c",
   "metadata": {},
   "outputs": [
    {
     "data": {
      "text/plain": [
       "'The super() function is used to call methods from the parent class in a child class.'"
      ]
     },
     "execution_count": 87,
     "metadata": {},
     "output_type": "execute_result"
    }
   ],
   "source": [
    "#13\n",
    "'The super() function is used to call methods from the parent class in a child class.'"
   ]
  },
  {
   "cell_type": "code",
   "execution_count": 88,
   "id": "6da97aa6",
   "metadata": {},
   "outputs": [],
   "source": [
    "#14\n",
    "class BankAccount:\n",
    "    def withdraw(self, amount):\n",
    "        pass\n",
    "\n",
    "class SavingsAccount(BankAccount):\n",
    "    def withdraw(self, amount):\n",
    "        print(\"Withdraw from savings account\")\n",
    "\n",
    "class CheckingAccount(BankAccount):\n",
    "    def withdraw(self, amount):\n",
    "        print(\"Withdraw from checking account\")\n"
   ]
  },
  {
   "cell_type": "code",
   "execution_count": 89,
   "id": "810fd3f0",
   "metadata": {},
   "outputs": [
    {
     "name": "stdout",
     "output_type": "stream",
     "text": [
      "4 6\n",
      "3 6\n"
     ]
    }
   ],
   "source": [
    "#15\n",
    "\"\"\"In Python, operator overloading allows you to define how an operator behaves for user-defined objects. This is achieved by defining special methods in the class, such as __add__ for the + operator and __mul__ for the * operator.\"\"\"\n",
    "class Point:\n",
    "    def __init__(self, x, y):\n",
    "        self.x = x\n",
    "        self.y = y\n",
    "    \n",
    "    def __add__(self, other):\n",
    "        return Point(self.x + other.x, self.y + other.y)\n",
    "    \n",
    "    def __mul__(self, scalar):\n",
    "        return Point(self.x * scalar, self.y * scalar)\n",
    "point1 = Point(1, 2)\n",
    "point2 = Point(3, 4)\n",
    "\n",
    "result_addition = point1 + point2 \n",
    "result_multiplication = point1 * 3 \n",
    "\n",
    "print(result_addition.x, result_addition.y)  \n",
    "print(result_multiplication.x, result_multiplication.y)  \n"
   ]
  },
  {
   "cell_type": "code",
   "execution_count": 90,
   "id": "182fe643",
   "metadata": {},
   "outputs": [
    {
     "name": "stdout",
     "output_type": "stream",
     "text": [
      "80000\n",
      "60000\n",
      "70000\n"
     ]
    }
   ],
   "source": [
    "#16\n",
    "class Employee:\n",
    "    def calculate_salary(self):\n",
    "        pass\n",
    "\n",
    "class Manager(Employee):\n",
    "    def calculate_salary(self):\n",
    "        return 80000\n",
    "\n",
    "class Developer(Employee):\n",
    "    def calculate_salary(self):\n",
    "        return 60000\n",
    "\n",
    "class Designer(Employee):\n",
    "    def calculate_salary(self):\n",
    "        return 70000\n",
    "\n",
    "# Usage\n",
    "employees = [Manager(), Developer(), Designer()]\n",
    "\n",
    "for emp in employees:\n",
    "    print(emp.calculate_salary())\n"
   ]
  },
  {
   "cell_type": "code",
   "execution_count": 91,
   "id": "bd26a37e",
   "metadata": {},
   "outputs": [
    {
     "data": {
      "text/plain": [
       "'Python does not have explicit function pointers like some other languages. Instead, functions are first-class citizens, meaning you can pass them around as arguments to achieve polymorphism.'"
      ]
     },
     "execution_count": 91,
     "metadata": {},
     "output_type": "execute_result"
    }
   ],
   "source": [
    "#18\n",
    "\"Python does not have explicit function pointers like some other languages. Instead, functions are first-class citizens, meaning you can pass them around as arguments to achieve polymorphism.\""
   ]
  },
  {
   "cell_type": "code",
   "execution_count": 92,
   "id": "4ee379ed",
   "metadata": {},
   "outputs": [
    {
     "data": {
      "text/plain": [
       "'In Python, interfaces are not explicitly defined, but you can use abstract classes with abstract methods to achieve a similar effect. Both interfaces and abstract classes promote polymorphism by providing a common interface that multiple classes can implement.'"
      ]
     },
     "execution_count": 92,
     "metadata": {},
     "output_type": "execute_result"
    }
   ],
   "source": [
    "#19\n",
    "\"In Python, interfaces are not explicitly defined, but you can use abstract classes with abstract methods to achieve a similar effect. Both interfaces and abstract classes promote polymorphism by providing a common interface that multiple classes can implement.\""
   ]
  },
  {
   "cell_type": "code",
   "execution_count": 93,
   "id": "2b3a341c",
   "metadata": {},
   "outputs": [
    {
     "name": "stdout",
     "output_type": "stream",
     "text": [
      "Roar!\n",
      "Trumpet!\n"
     ]
    }
   ],
   "source": [
    "#20\n",
    "class Animal:\n",
    "    def speak(self):\n",
    "        pass\n",
    "\n",
    "class Lion(Animal):\n",
    "    def speak(self):\n",
    "        return \"Roar!\"\n",
    "\n",
    "class Elephant(Animal):\n",
    "    def speak(self):\n",
    "        return \"Trumpet!\"\n",
    "\n",
    "class Zoo:\n",
    "    def __init__(self):\n",
    "        self.animals = []\n",
    "    \n",
    "    def add_animal(self, animal):\n",
    "        self.animals.append(animal)\n",
    "    \n",
    "    def simulate_sounds(self):\n",
    "        for animal in self.animals:\n",
    "            print(animal.speak())\n",
    "zoo = Zoo()\n",
    "zoo.add_animal(Lion())\n",
    "zoo.add_animal(Elephant())\n",
    "zoo.simulate_sounds()\n"
   ]
  },
  {
   "cell_type": "markdown",
   "id": "28e101fd",
   "metadata": {},
   "source": [
    "## abstraction"
   ]
  },
  {
   "cell_type": "code",
   "execution_count": 94,
   "id": "43958432",
   "metadata": {},
   "outputs": [
    {
     "data": {
      "text/plain": [
       "'Abstraction is a fundamental concept in object-oriented programming (OOP) that involves simplifying complex systems by modeling classes based on the essential features and ignoring the unnecessary details. It allows developers to focus on what an object does rather than how it achieves its functionality. In Python, abstraction is achieved through the creation of classes and the use of abstract classes and methods.'"
      ]
     },
     "execution_count": 94,
     "metadata": {},
     "output_type": "execute_result"
    }
   ],
   "source": [
    "#1\n",
    "'Abstraction is a fundamental concept in object-oriented programming (OOP) that involves simplifying complex systems by modeling classes based on the essential features and ignoring the unnecessary details. It allows developers to focus on what an object does rather than how it achieves its functionality. In Python, abstraction is achieved through the creation of classes and the use of abstract classes and methods.'"
   ]
  },
  {
   "cell_type": "code",
   "execution_count": 95,
   "id": "9d5dcd3b",
   "metadata": {},
   "outputs": [
    {
     "data": {
      "text/plain": [
       "'Code Organization: Abstraction helps in organizing code by breaking it into modular and manageable components. It allows developers to deal with high-level concepts rather than low-level details.\\n\\nComplexity Reduction: Abstraction hides the complexity of implementation, making it easier for developers to understand and use objects. It promotes a clear separation between the interface and the implementation.'"
      ]
     },
     "execution_count": 95,
     "metadata": {},
     "output_type": "execute_result"
    }
   ],
   "source": [
    "#2\n",
    "'''Code Organization: Abstraction helps in organizing code by breaking it into modular and manageable components. It allows developers to deal with high-level concepts rather than low-level details.\n",
    "\n",
    "Complexity Reduction: Abstraction hides the complexity of implementation, making it easier for developers to understand and use objects. It promotes a clear separation between the interface and the implementation.'''"
   ]
  },
  {
   "cell_type": "code",
   "execution_count": 96,
   "id": "b348990b",
   "metadata": {},
   "outputs": [
    {
     "name": "stdout",
     "output_type": "stream",
     "text": [
      "78.53981633974483\n",
      "24\n"
     ]
    }
   ],
   "source": [
    "#3\n",
    "from abc import ABC, abstractmethod\n",
    "import math\n",
    "\n",
    "class Shape(ABC):\n",
    "    @abstractmethod\n",
    "    def calculate_area(self):\n",
    "        pass\n",
    "\n",
    "class Circle(Shape):\n",
    "    def __init__(self, radius):\n",
    "        self.radius = radius\n",
    "    \n",
    "    def calculate_area(self):\n",
    "        return math.pi * self.radius ** 2\n",
    "\n",
    "class Rectangle(Shape):\n",
    "    def __init__(self, width, height):\n",
    "        self.width = width\n",
    "        self.height = height\n",
    "    \n",
    "    def calculate_area(self):\n",
    "        return self.width * self.height\n",
    "\n",
    "# Usage\n",
    "circle = Circle(5)\n",
    "rectangle = Rectangle(4, 6)\n",
    "\n",
    "print(circle.calculate_area())     \n",
    "print(rectangle.calculate_area())  \n"
   ]
  },
  {
   "cell_type": "code",
   "execution_count": 97,
   "id": "863efdb9",
   "metadata": {},
   "outputs": [
    {
     "name": "stdout",
     "output_type": "stream",
     "text": [
      "Implemented abstract method.\n"
     ]
    }
   ],
   "source": [
    "#4\n",
    "'Abstract classes in Python are defined using the abc module. An abstract class is a class that cannot be instantiated and may have abstract methods that must be implemented by its subclasses.'\n",
    "from abc import ABC, abstractmethod\n",
    "\n",
    "class MyAbstractClass(ABC):\n",
    "    @abstractmethod\n",
    "    def my_abstract_method(self):\n",
    "        pass\n",
    "\n",
    "class MyConcreteClass(MyAbstractClass):\n",
    "    def my_abstract_method(self):\n",
    "        print(\"Implemented abstract method.\")\n",
    "\n",
    "obj = MyConcreteClass()\n",
    "obj.my_abstract_method()\n"
   ]
  },
  {
   "cell_type": "code",
   "execution_count": 98,
   "id": "ff098d47",
   "metadata": {},
   "outputs": [
    {
     "data": {
      "text/plain": [
       "'Abstract Classes: Cannot be instantiated on their own and may have abstract methods. They serve as a blueprint for other classes.\\n\\nRegular Classes: Can be instantiated directly and may or may not have abstract methods. They provide concrete implementations.'"
      ]
     },
     "execution_count": 98,
     "metadata": {},
     "output_type": "execute_result"
    }
   ],
   "source": [
    "#5\n",
    "'''Abstract Classes: Cannot be instantiated on their own and may have abstract methods. They serve as a blueprint for other classes.\n",
    "\n",
    "Regular Classes: Can be instantiated directly and may or may not have abstract methods. They provide concrete implementations.'''"
   ]
  },
  {
   "cell_type": "code",
   "execution_count": 99,
   "id": "c6d243ce",
   "metadata": {},
   "outputs": [],
   "source": [
    "#6\n",
    "class BankAccount:\n",
    "    def __init__(self):\n",
    "        self._balance = 0\n",
    "    \n",
    "    def deposit(self, amount):\n",
    "        self._balance += amount\n",
    "    \n",
    "    def withdraw(self, amount):\n",
    "        if amount <= self._balance:\n",
    "            self._balance -= amount\n",
    "        else:\n",
    "            print(\"Insufficient funds.\")\n",
    "account = BankAccount()\n",
    "account.deposit(1000)\n",
    "account.withdraw(500)\n"
   ]
  },
  {
   "cell_type": "code",
   "execution_count": 100,
   "id": "d0f15665",
   "metadata": {},
   "outputs": [
    {
     "data": {
      "text/plain": [
       "'In Python, interface classes are not explicitly defined, but the concept is achieved through abstract classes that only contain abstract methods. These methods act as the interface that subclasses must implement.'"
      ]
     },
     "execution_count": 100,
     "metadata": {},
     "output_type": "execute_result"
    }
   ],
   "source": [
    "#7\n",
    "'In Python, interface classes are not explicitly defined, but the concept is achieved through abstract classes that only contain abstract methods. These methods act as the interface that subclasses must implement.'"
   ]
  },
  {
   "cell_type": "code",
   "execution_count": 101,
   "id": "b57b7c1e",
   "metadata": {},
   "outputs": [
    {
     "name": "stdout",
     "output_type": "stream",
     "text": [
      "Roar!\n",
      "Trumpet!\n"
     ]
    }
   ],
   "source": [
    "#8\n",
    "from abc import ABC, abstractmethod\n",
    "\n",
    "class Animal(ABC):\n",
    "    @abstractmethod\n",
    "    def speak(self):\n",
    "        pass\n",
    "\n",
    "class Lion(Animal):\n",
    "    def speak(self):\n",
    "        return \"Roar!\"\n",
    "\n",
    "class Elephant(Animal):\n",
    "    def speak(self):\n",
    "        return \"Trumpet!\"\n",
    "\n",
    "# Usage\n",
    "lion = Lion()\n",
    "elephant = Elephant()\n",
    "\n",
    "print(lion.speak())      \n",
    "\n",
    "print(elephant.speak())\n"
   ]
  },
  {
   "cell_type": "code",
   "execution_count": 102,
   "id": "c74a2e64",
   "metadata": {},
   "outputs": [
    {
     "data": {
      "text/plain": [
       "'Encapsulation involves bundling the data (attributes) and methods that operate on the data into a single unit, i.e., a class. Encapsulation supports abstraction by hiding the internal details of the class and exposing only what is necessary.'"
      ]
     },
     "execution_count": 102,
     "metadata": {},
     "output_type": "execute_result"
    }
   ],
   "source": [
    "#9\n",
    "'Encapsulation involves bundling the data (attributes) and methods that operate on the data into a single unit, i.e., a class. Encapsulation supports abstraction by hiding the internal details of the class and exposing only what is necessary.'"
   ]
  },
  {
   "cell_type": "code",
   "execution_count": 103,
   "id": "f52767e5",
   "metadata": {},
   "outputs": [
    {
     "data": {
      "text/plain": [
       "'Abstract methods in Python enforce abstraction by requiring concrete subclasses to provide implementations for these methods. This ensures that the essential behavior is defined at a higher level.'"
      ]
     },
     "execution_count": 103,
     "metadata": {},
     "output_type": "execute_result"
    }
   ],
   "source": [
    "10\n",
    "'Abstract methods in Python enforce abstraction by requiring concrete subclasses to provide implementations for these methods. This ensures that the essential behavior is defined at a higher level.'"
   ]
  },
  {
   "cell_type": "code",
   "execution_count": 104,
   "id": "02cded0e",
   "metadata": {},
   "outputs": [
    {
     "name": "stdout",
     "output_type": "stream",
     "text": [
      "Car starting...\n",
      "Car stopping...\n"
     ]
    }
   ],
   "source": [
    "#11\n",
    "from abc import ABC, abstractmethod\n",
    "\n",
    "class Vehicle(ABC):\n",
    "    @abstractmethod\n",
    "    def start(self):\n",
    "        pass\n",
    "    \n",
    "    @abstractmethod\n",
    "    def stop(self):\n",
    "        pass\n",
    "\n",
    "class Car(Vehicle):\n",
    "    def start(self):\n",
    "        return \"Car starting...\"\n",
    "    \n",
    "    def stop(self):\n",
    "        return \"Car stopping...\"\n",
    "car = Car()\n",
    "print(car.start())  \n",
    "print(car.stop())  \n"
   ]
  },
  {
   "cell_type": "code",
   "execution_count": 105,
   "id": "bed8799c",
   "metadata": {},
   "outputs": [
    {
     "data": {
      "text/plain": [
       "'Abstract properties in Python are defined using the @property decorator in an abstract class. They allow you to define properties that must be implemented by concrete subclasses.'"
      ]
     },
     "execution_count": 105,
     "metadata": {},
     "output_type": "execute_result"
    }
   ],
   "source": [
    "#12\n",
    "'Abstract properties in Python are defined using the @property decorator in an abstract class. They allow you to define properties that must be implemented by concrete subclasses.'"
   ]
  },
  {
   "cell_type": "code",
   "execution_count": 106,
   "id": "bc50418e",
   "metadata": {},
   "outputs": [
    {
     "name": "stdout",
     "output_type": "stream",
     "text": [
      "80000\n",
      "60000\n"
     ]
    }
   ],
   "source": [
    "13\n",
    "from abc import ABC, abstractmethod\n",
    "\n",
    "class Employee(ABC):\n",
    "    @abstractmethod\n",
    "    def get_salary(self):\n",
    "        pass\n",
    "\n",
    "class Manager(Employee):\n",
    "    def get_salary(self):\n",
    "        return 80000\n",
    "\n",
    "class Developer(Employee):\n",
    "    def get_salary(self):\n",
    "        return 60000\n",
    "manager = Manager()\n",
    "developer = Developer()\n",
    "\n",
    "print(manager.get_salary())   \n",
    "print(developer.get_salary()) "
   ]
  },
  {
   "cell_type": "code",
   "execution_count": 107,
   "id": "e66890d7",
   "metadata": {},
   "outputs": [
    {
     "data": {
      "text/plain": [
       "'Abstract Classes: Cannot be instantiated directly, may have abstract methods, and serve as a blueprint.\\n\\nConcrete Classes: Can be instantiated directly, provide concrete implementations, and may or may not inherit from abstract classes.'"
      ]
     },
     "execution_count": 107,
     "metadata": {},
     "output_type": "execute_result"
    }
   ],
   "source": [
    "#14\n",
    "'''Abstract Classes: Cannot be instantiated directly, may have abstract methods, and serve as a blueprint.\n",
    "\n",
    "Concrete Classes: Can be instantiated directly, provide concrete implementations, and may or may not inherit from abstract classes.'''"
   ]
  },
  {
   "cell_type": "code",
   "execution_count": 108,
   "id": "5a8132a0",
   "metadata": {},
   "outputs": [
    {
     "data": {
      "text/plain": [
       "'Abstract Data Types represent a high-level view of a data structure, emphasizing what it does rather than how it achieves its functionality. Classes in Python can be used to define ADTs, promoting abstraction.'"
      ]
     },
     "execution_count": 108,
     "metadata": {},
     "output_type": "execute_result"
    }
   ],
   "source": [
    "15\n",
    "'Abstract Data Types represent a high-level view of a data structure, emphasizing what it does rather than how it achieves its functionality. Classes in Python can be used to define ADTs, promoting abstraction.'"
   ]
  },
  {
   "cell_type": "code",
   "execution_count": 109,
   "id": "bf6ae362",
   "metadata": {},
   "outputs": [
    {
     "name": "stdout",
     "output_type": "stream",
     "text": [
      "Desktop powering on...\n",
      "Desktop shutting down...\n"
     ]
    }
   ],
   "source": [
    "16\n",
    "from abc import ABC, abstractmethod\n",
    "\n",
    "class ComputerSystem(ABC):\n",
    "    @abstractmethod\n",
    "    def power_on(self):\n",
    "        pass\n",
    "    \n",
    "    @abstractmethod\n",
    "    def shutdown(self):\n",
    "        pass\n",
    "\n",
    "class Desktop(ComputerSystem):\n",
    "    def power_on(self):\n",
    "        return \"Desktop powering on...\"\n",
    "    \n",
    "    def shutdown(self):\n",
    "        return \"Desktop shutting down...\"\n",
    "\n",
    "# Usage\n",
    "desktop = Desktop()\n",
    "print(desktop.power_on())  # Output: Desktop powering on...\n",
    "print(desktop.shutdown())  # Output: Desktop shutting down...\n"
   ]
  },
  {
   "cell_type": "code",
   "execution_count": 110,
   "id": "66069da2",
   "metadata": {},
   "outputs": [
    {
     "data": {
      "text/plain": [
       "'Modularity: Abstraction facilitates code modularity, allowing developers to work on isolated components without affecting the entire system.\\n\\nMaintainability: Abstracting away complex details makes code easier to understand and maintain.\\n\\nScalability: Abstraction enables the scalability of a project by breaking it into manageable components.'"
      ]
     },
     "execution_count": 110,
     "metadata": {},
     "output_type": "execute_result"
    }
   ],
   "source": [
    "17\n",
    "'''Modularity: Abstraction facilitates code modularity, allowing developers to work on isolated components without affecting the entire system.\n",
    "\n",
    "Maintainability: Abstracting away complex details makes code easier to understand and maintain.\n",
    "\n",
    "Scalability: Abstraction enables the scalability of a project by breaking it into manageable components.'''"
   ]
  },
  {
   "cell_type": "code",
   "execution_count": 113,
   "id": "1afa02a5",
   "metadata": {},
   "outputs": [
    {
     "data": {
      "text/plain": [
       "\"Abstraction enhances code reusability and modularity in Python by providing a clear separation between the interface and the implementation details. Here's how it achieves these benefits:\\n\\nModularity: Abstraction allows you to break down a complex system into smaller, more manageable components (classes or modules). Each component encapsulates specific functionality and can be developed, tested, and maintained independently. This promotes a modular and organized code structure.\\n\\nCode Reusability: Abstracting away implementation details in higher-level interfaces allows you to reuse these interfaces across different parts of the code or even in different projects. Abstract classes and interfaces provide a common blueprint that can be implemented by multiple classes, promoting the reuse of code without duplicating functionality.\\n\\nEncapsulation: Abstraction often involves encapsulating data and methods within a class, hiding the internal details. This encapsulation ensures that the implementation of a class is hidden, and changes to the implementation do not affect the code that uses the class. This encapsulation contributes to the modularity and reusability of code.\""
      ]
     },
     "execution_count": 113,
     "metadata": {},
     "output_type": "execute_result"
    }
   ],
   "source": [
    "18\n",
    "\"\"\"Abstraction enhances code reusability and modularity in Python by providing a clear separation between the interface and the implementation details. Here's how it achieves these benefits:\n",
    "\n",
    "Modularity: Abstraction allows you to break down a complex system into smaller, more manageable components (classes or modules). Each component encapsulates specific functionality and can be developed, tested, and maintained independently. This promotes a modular and organized code structure.\n",
    "\n",
    "Code Reusability: Abstracting away implementation details in higher-level interfaces allows you to reuse these interfaces across different parts of the code or even in different projects. Abstract classes and interfaces provide a common blueprint that can be implemented by multiple classes, promoting the reuse of code without duplicating functionality.\n",
    "\n",
    "Encapsulation: Abstraction often involves encapsulating data and methods within a class, hiding the internal details. This encapsulation ensures that the implementation of a class is hidden, and changes to the implementation do not affect the code that uses the class. This encapsulation contributes to the modularity and reusability of code.\"\"\""
   ]
  },
  {
   "cell_type": "code",
   "execution_count": 114,
   "id": "64b4eade",
   "metadata": {},
   "outputs": [
    {
     "name": "stdout",
     "output_type": "stream",
     "text": [
      "Book: The Catcher in the Rye by J.D. Salinger, ISBN: 978-0-316-76948-0\n",
      "DVD: The Shawshank Redemption directed by Frank Darabont, Released: 1994\n"
     ]
    }
   ],
   "source": [
    "#19\n",
    "from abc import ABC, abstractmethod\n",
    "\n",
    "class LibraryItem(ABC):\n",
    "    def __init__(self, title, author):\n",
    "        self.title = title\n",
    "        self.author = author\n",
    "    \n",
    "    @abstractmethod\n",
    "    def display_info(self):\n",
    "        pass\n",
    "\n",
    "class Book(LibraryItem):\n",
    "    def __init__(self, title, author, ISBN):\n",
    "        super().__init__(title, author)\n",
    "        self.ISBN = ISBN\n",
    "    \n",
    "    def display_info(self):\n",
    "        print(f\"Book: {self.title} by {self.author}, ISBN: {self.ISBN}\")\n",
    "\n",
    "class DVD(LibraryItem):\n",
    "    def __init__(self, title, director, release_date):\n",
    "        super().__init__(title, \"\")\n",
    "        self.director = director\n",
    "        self.release_date = release_date\n",
    "    \n",
    "    def display_info(self):\n",
    "        print(f\"DVD: {self.title} directed by {self.director}, Released: {self.release_date}\")\n",
    "\n",
    "book = Book(\"The Catcher in the Rye\", \"J.D. Salinger\", \"978-0-316-76948-0\")\n",
    "dvd = DVD(\"The Shawshank Redemption\", \"Frank Darabont\", \"1994\")\n",
    "\n",
    "book.display_info()\n",
    "dvd.display_info()\n"
   ]
  },
  {
   "cell_type": "code",
   "execution_count": 117,
   "id": "e110e1b1",
   "metadata": {},
   "outputs": [
    {
     "data": {
      "text/plain": [
       "'Method abstraction in Python involves defining methods in abstract classes or interfaces without providing their implementation. This allows concrete subclasses to provide their own implementations. Method abstraction is closely related to polymorphism, where objects of different types can be treated as objects of a common base type.\\nMethod Abstraction in Abstract Classes:\\n\\nAbstract classes may contain abstract methods, which are methods without implementation.\\nSubclasses must provide concrete implementations for these abstract methods.\\nPolymorphism and Method Abstraction:\\n\\nPolymorphism allows objects of different types to be treated as objects of a common base type.\\nIn the context of method abstraction, polymorphism allows different subclasses to provide their own implementations for the same method declared in an abstract class or interface.'"
      ]
     },
     "execution_count": 117,
     "metadata": {},
     "output_type": "execute_result"
    }
   ],
   "source": [
    "#20\n",
    "'''Method abstraction in Python involves defining methods in abstract classes or interfaces without providing their implementation. This allows concrete subclasses to provide their own implementations. Method abstraction is closely related to polymorphism, where objects of different types can be treated as objects of a common base type.\n",
    "Method Abstraction in Abstract Classes:\n",
    "\n",
    "Abstract classes may contain abstract methods, which are methods without implementation.\n",
    "Subclasses must provide concrete implementations for these abstract methods.\n",
    "Polymorphism and Method Abstraction:\n",
    "\n",
    "Polymorphism allows objects of different types to be treated as objects of a common base type.\n",
    "In the context of method abstraction, polymorphism allows different subclasses to provide their own implementations for the same method declared in an abstract class or interface.'''"
   ]
  },
  {
   "cell_type": "markdown",
   "id": "5abe5072",
   "metadata": {},
   "source": [
    "##composition"
   ]
  },
  {
   "cell_type": "code",
   "execution_count": 119,
   "id": "bbff5521",
   "metadata": {},
   "outputs": [
    {
     "data": {
      "text/plain": [
       "'Composition is a design principle in object-oriented programming (OOP) where a class contains objects of other classes, helping to build complex objects from simpler ones. It involves creating relationships between classes by embedding objects within one another.'"
      ]
     },
     "execution_count": 119,
     "metadata": {},
     "output_type": "execute_result"
    }
   ],
   "source": [
    "#1\n",
    "'Composition is a design principle in object-oriented programming (OOP) where a class contains objects of other classes, helping to build complex objects from simpler ones. It involves creating relationships between classes by embedding objects within one another.'"
   ]
  },
  {
   "cell_type": "code",
   "execution_count": 120,
   "id": "a9ae71b4",
   "metadata": {},
   "outputs": [
    {
     "data": {
      "text/plain": [
       "'Composition: Involves creating relationships between classes by embedding objects within one another.\\nInheritance: Involves creating a new class by using properties and behaviors of an existing class. It establishes an \"is-a\" relationship.'"
      ]
     },
     "execution_count": 120,
     "metadata": {},
     "output_type": "execute_result"
    }
   ],
   "source": [
    "#2\n",
    "'''Composition: Involves creating relationships between classes by embedding objects within one another.\n",
    "Inheritance: Involves creating a new class by using properties and behaviors of an existing class. It establishes an \"is-a\" relationship.'''"
   ]
  },
  {
   "cell_type": "code",
   "execution_count": 121,
   "id": "f4817d8d",
   "metadata": {},
   "outputs": [],
   "source": [
    "#3\n",
    "class Author:\n",
    "    def __init__(self, name, birthdate):\n",
    "        self.name = name\n",
    "        self.birthdate = birthdate\n",
    "\n",
    "class Book:\n",
    "    def __init__(self, title, author):\n",
    "        self.title = title\n",
    "        self.author = author\n",
    "author1 = Author(\"shahnaz bashir\",\"12,01,1989\")\n",
    "book1 = Book(\"Python Programming\", author1)\n"
   ]
  },
  {
   "cell_type": "code",
   "execution_count": 122,
   "id": "9960cdff",
   "metadata": {},
   "outputs": [
    {
     "data": {
      "text/plain": [
       "'Flexibility: Composition allows you to change the behavior of a class more dynamically.\\nCode Reusability: Promotes reusing existing code without the constraints of a fixed class hierarchy.'"
      ]
     },
     "execution_count": 122,
     "metadata": {},
     "output_type": "execute_result"
    }
   ],
   "source": [
    "#4\n",
    "'''Flexibility: Composition allows you to change the behavior of a class more dynamically.\n",
    "Code Reusability: Promotes reusing existing code without the constraints of a fixed class hierarchy.'''"
   ]
  },
  {
   "cell_type": "code",
   "execution_count": 123,
   "id": "6b67c750",
   "metadata": {},
   "outputs": [
    {
     "name": "stdout",
     "output_type": "stream",
     "text": [
      "Engine started\n"
     ]
    }
   ],
   "source": [
    "#5\n",
    "class Engine:\n",
    "    def start(self):\n",
    "        print(\"Engine started\")\n",
    "\n",
    "class Car:\n",
    "    def __init__(self):\n",
    "        self.engine = Engine()\n",
    "\n",
    "# Example:\n",
    "my_car = Car()\n",
    "my_car.engine.start()\n"
   ]
  },
  {
   "cell_type": "code",
   "execution_count": 124,
   "id": "2eacb4aa",
   "metadata": {},
   "outputs": [],
   "source": [
    "#6\n",
    "class Song:\n",
    "    pass \n",
    "\n",
    "class Playlist:\n",
    "    def __init__(self):\n",
    "        self.songs = []\n",
    "\n",
    "class MusicPlayer:\n",
    "    def __init__(self):\n",
    "        self.playlist = Playlist()\n"
   ]
  },
  {
   "cell_type": "code",
   "execution_count": 125,
   "id": "876c48bc",
   "metadata": {},
   "outputs": [
    {
     "data": {
      "text/plain": [
       "'Has-a\" relationships indicate that an object contains another object, emphasizing the association between them.'"
      ]
     },
     "execution_count": 125,
     "metadata": {},
     "output_type": "execute_result"
    }
   ],
   "source": [
    "#7\n",
    "\"\"\"Has-a\" relationships indicate that an object contains another object, emphasizing the association between them.\"\"\""
   ]
  },
  {
   "cell_type": "code",
   "execution_count": 126,
   "id": "82efe132",
   "metadata": {},
   "outputs": [],
   "source": [
    "#8\n",
    "class CPU:\n",
    "    pass \n",
    "\n",
    "class RAM:\n",
    "    pass  \n",
    "\n",
    "class Storage:\n",
    "    pass \n",
    "\n",
    "class ComputerSystem:\n",
    "    def __init__(self):\n",
    "        self.cpu = CPU()\n",
    "        self.ram = RAM()\n",
    "        self.storage = Storage()\n"
   ]
  },
  {
   "cell_type": "code",
   "execution_count": 127,
   "id": "b2cce544",
   "metadata": {},
   "outputs": [
    {
     "data": {
      "text/plain": [
       "'Delegation involves one object relying on another to provide a specific functionality, simplifying the design of complex systems.'"
      ]
     },
     "execution_count": 127,
     "metadata": {},
     "output_type": "execute_result"
    }
   ],
   "source": [
    "#9\n",
    "'Delegation involves one object relying on another to provide a specific functionality, simplifying the design of complex systems.'"
   ]
  },
  {
   "cell_type": "code",
   "execution_count": 128,
   "id": "5c7888b3",
   "metadata": {},
   "outputs": [],
   "source": [
    "10\n",
    "class Engine:\n",
    "    pass  # Define Engine class\n",
    "\n",
    "class Wheels:\n",
    "    pass  # Define Wheels class\n",
    "\n",
    "class Transmission:\n",
    "    pass  # Define Transmission class\n",
    "\n",
    "class Car:\n",
    "    def __init__(self):\n",
    "        self.engine = Engine()\n",
    "        self.wheels = Wheels()\n",
    "        self.transmission = Transmission()\n"
   ]
  },
  {
   "cell_type": "code",
   "execution_count": 130,
   "id": "3359f491",
   "metadata": {},
   "outputs": [
    {
     "data": {
      "text/plain": [
       "'Encapsulation involves hiding the internal details of an object and restricting access to its properties and methods.'"
      ]
     },
     "execution_count": 130,
     "metadata": {},
     "output_type": "execute_result"
    }
   ],
   "source": [
    "#11\n",
    "\"Encapsulation involves hiding the internal details of an object and restricting access to its properties and methods.\""
   ]
  },
  {
   "cell_type": "code",
   "execution_count": 131,
   "id": "14389b00",
   "metadata": {},
   "outputs": [],
   "source": [
    "#12\n",
    "class Student:\n",
    "    pass\n",
    "\n",
    "class Instructor:\n",
    "    pass \n",
    "\n",
    "class CourseMaterials:\n",
    "    pass \n",
    "\n",
    "class UniversityCourse:\n",
    "    def __init__(self):\n",
    "        self.students = []\n",
    "        self.instructor = Instructor()\n",
    "        self.materials = CourseMaterials()\n"
   ]
  },
  {
   "cell_type": "code",
   "execution_count": 132,
   "id": "18ee660a",
   "metadata": {},
   "outputs": [
    {
     "data": {
      "text/plain": [
       "'Increased Complexity: Managing multiple objects can become complex.\\nTight Coupling: Objects can become tightly coupled, making it harder to change one without affecting others.'"
      ]
     },
     "execution_count": 132,
     "metadata": {},
     "output_type": "execute_result"
    }
   ],
   "source": [
    "#13\n",
    "\"\"\"Increased Complexity: Managing multiple objects can become complex.\n",
    "Tight Coupling: Objects can become tightly coupled, making it harder to change one without affecting others.\"\"\""
   ]
  },
  {
   "cell_type": "code",
   "execution_count": 133,
   "id": "9670a6c6",
   "metadata": {},
   "outputs": [],
   "source": [
    "#14\n",
    "class Ingredient:\n",
    "    pass  # Define Ingredient class\n",
    "\n",
    "class Dish:\n",
    "    def __init__(self):\n",
    "        self.ingredients = []\n",
    "\n",
    "class Menu:\n",
    "    def __init__(self):\n",
    "        self.dishes = []\n"
   ]
  },
  {
   "cell_type": "code",
   "execution_count": 134,
   "id": "a3b7c3bb",
   "metadata": {},
   "outputs": [
    {
     "data": {
      "text/plain": [
       "\"Composition enhances code maintainability by allowing for more flexible and modular designs. Changes in one class don't necessarily affect others.\""
      ]
     },
     "execution_count": 134,
     "metadata": {},
     "output_type": "execute_result"
    }
   ],
   "source": [
    "#15\n",
    "\"Composition enhances code maintainability by allowing for more flexible and modular designs. Changes in one class don't necessarily affect others.\""
   ]
  },
  {
   "cell_type": "code",
   "execution_count": 135,
   "id": "155119ee",
   "metadata": {},
   "outputs": [],
   "source": [
    "#16\n",
    "class Weapon:\n",
    "    pass \n",
    "\n",
    "class Armor:\n",
    "    pass\n",
    "\n",
    "class Inventory:\n",
    "    pass \n",
    "\n",
    "class GameCharacter:\n",
    "    def __init__(self):\n",
    "        self.weapon = Weapon()\n",
    "        self.armor = Armor()\n",
    "        self.inventory = Inventory()\n"
   ]
  },
  {
   "cell_type": "code",
   "execution_count": 137,
   "id": "02469fb0",
   "metadata": {},
   "outputs": [
    {
     "data": {
      "text/plain": [
       "'Aggregation is a specific form of composition where objects have an independent lifecycle. It differs from simple composition by allowing objects to exist independently of the composed object.'"
      ]
     },
     "execution_count": 137,
     "metadata": {},
     "output_type": "execute_result"
    }
   ],
   "source": [
    "#17\n",
    "\"\"\"Aggregation is a specific form of composition where objects have an independent lifecycle. It differs from simple composition by allowing objects to exist independently of the composed object.\"\"\""
   ]
  },
  {
   "cell_type": "code",
   "execution_count": 138,
   "id": "919ac275",
   "metadata": {},
   "outputs": [],
   "source": [
    "#18\n",
    "class Room:\n",
    "    pass  # Define Room class\n",
    "\n",
    "class Furniture:\n",
    "    pass  # Define Furniture class\n",
    "\n",
    "class Appliance:\n",
    "    pass  # Define Appliance class\n",
    "\n",
    "class House:\n",
    "    def __init__(self):\n",
    "        self.rooms = []\n",
    "        self.furniture = Furniture()\n",
    "        self.appliances = Appliance()\n"
   ]
  },
  {
   "cell_type": "code",
   "execution_count": 140,
   "id": "7ffd8a58",
   "metadata": {},
   "outputs": [
    {
     "data": {
      "text/plain": [
       "\"To achieve flexibility, you can provide methods in the class to replace or modify composed objects dynamically. Here's a simple example with the House class:\""
      ]
     },
     "execution_count": 140,
     "metadata": {},
     "output_type": "execute_result"
    }
   ],
   "source": [
    "19\n",
    "\"\"\"To achieve flexibility, you can provide methods in the class to replace or modify composed objects dynamically. Here's a simple example with the House class:\"\"\""
   ]
  },
  {
   "cell_type": "code",
   "execution_count": 141,
   "id": "8b0b2492",
   "metadata": {},
   "outputs": [],
   "source": [
    "#20\n",
    "class User:\n",
    "    pass  # Define User class\n",
    "\n",
    "class Post:\n",
    "    pass  # Define Post class\n",
    "\n",
    "class Comment:\n",
    "    pass  # Define Comment class\n",
    "\n",
    "class SocialMediaApp:\n",
    "    def __init__(self):\n",
    "        self.users = []\n",
    "        self.posts = []\n",
    "        self.comments = []\n"
   ]
  },
  {
   "cell_type": "code",
   "execution_count": null,
   "id": "a3f41655",
   "metadata": {},
   "outputs": [],
   "source": []
  }
 ],
 "metadata": {
  "kernelspec": {
   "display_name": "Python 3 (ipykernel)",
   "language": "python",
   "name": "python3"
  },
  "language_info": {
   "codemirror_mode": {
    "name": "ipython",
    "version": 3
   },
   "file_extension": ".py",
   "mimetype": "text/x-python",
   "name": "python",
   "nbconvert_exporter": "python",
   "pygments_lexer": "ipython3",
   "version": "3.11.5"
  }
 },
 "nbformat": 4,
 "nbformat_minor": 5
}
